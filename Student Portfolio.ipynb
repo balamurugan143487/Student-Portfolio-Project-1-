name=input("Enter Name of the Student : ")
std=input("Enter Student Class/Std : ")
rollno=int(input("Enter Student Roll No : "))  #type only integer
sub1=int(input("Enter Computer Science : "))
sub2=int(input("Enter English : "))
sub3=int(input("Enter Telugu : "))

total=sub1+sub2+sub3
print("Total Marks : ",total)

percentage = total/300*100
print("Percentage : ", percentage)